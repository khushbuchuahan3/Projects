{
 "cells": [
  {
   "cell_type": "code",
   "execution_count": null,
   "id": "b5ef2a84",
   "metadata": {},
   "outputs": [],
   "source": [
    "import cv2\n",
    "\n",
    "cap=cv2.VideoCapture(\"highway.mp4\")\n",
    "\n",
    "#Frame count\n",
    "frame=cap.get(cv2.CAP_PROP_FRAME_COUNT)\n",
    "\n",
    "#Height and width of vidio\n",
    "height=cap.get(cv2.CAP_PROP_FRAME_HEIGHT)\n",
    "width=cap.get(cv2.CAP_PROP_FRAME_WIDTH)\n",
    "\n",
    "#Frame per second Vidio\n",
    "fps=cap.get(cv2.CAP_PROP_FPS)\n",
    "\n",
    "#Initialize output for vidio\n",
    "fourcc=cv2.VideoWriter_fourcc(*\"mjpg\")\n",
    "out=cv2.VideoWriter(\"jpeg\",fourcc,fps,(int(width*0.3),int(height*0.3)))\n",
    "print(\"no of frame {}\".format(frame))\n",
    "print(\"fps{}\".format(fps))\n",
    "\n",
    "#We got last frame index\n",
    "frame_index=frame-1\n",
    "\n",
    "\n",
    "while (frame_index!=0):\n",
    "    #Readng till end of the vidio\n",
    "    cap.set(cv2.CAP_PROP_POS_FRAMES,frame_index)\n",
    "    ret,frame=cap.read()\n",
    "    cv2.imshow(\"frame\",frame)\n",
    "\n",
    "    #Writing Reverse vidio\n",
    "    out.write(frame)\n",
    "    frame_index=frame_index-1\n",
    "\n",
    "    #Printing in process\n",
    "    if(frame_index%100==0):\n",
    "        print(frame_index)\n",
    "    if (cv2.waitKey(2)==ord(\"q\")):\n",
    "        break\n",
    "\n",
    "out.release()\n",
    "cap.release()\n",
    "cv2.destroyAllWindows()\n"
   ]
  }
 ],
 "metadata": {
  "kernelspec": {
   "display_name": "Python 3",
   "language": "python",
   "name": "python3"
  },
  "language_info": {
   "codemirror_mode": {
    "name": "ipython",
    "version": 3
   },
   "file_extension": ".py",
   "mimetype": "text/x-python",
   "name": "python",
   "nbconvert_exporter": "python",
   "pygments_lexer": "ipython3",
   "version": "3.8.8"
  }
 },
 "nbformat": 4,
 "nbformat_minor": 5
}
