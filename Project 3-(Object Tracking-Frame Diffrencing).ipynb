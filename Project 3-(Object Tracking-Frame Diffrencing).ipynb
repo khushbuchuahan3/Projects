{
 "cells": [
  {
   "cell_type": "code",
   "execution_count": null,
   "id": "3a81a66e",
   "metadata": {},
   "outputs": [],
   "source": [
    "#Project\n",
    "#Object Tracking-Frame diffrencing\n",
    "\n",
    "import cv2\n",
    "import numpy as np\n",
    "kernel=np.ones((3,3))\n",
    "scaling_factor = 0.9\n",
    "\n",
    "#Compute diffrance Frame\n",
    "def frame_diff(prev_frame,currunt_frame,next_frame):\n",
    "    abs1=cv2.absdiff(currunt_frame,prev_frame)\n",
    "    abs2=cv2.absdiff(next_frame,currunt_frame)\n",
    "    return cv2.bitwise_and(abs1,abs2)\n",
    "\n",
    "#Capture frame from webcam\n",
    "def get_frame(cap,):\n",
    "    ret,frame=cap.read()\n",
    "    #frame resize\n",
    "    frame=cv2.resize(frame,None,fx=scaling_factor,fy=scaling_factor,interpolation=cv2.INTER_AREA)\n",
    "    return cv2.cvtColor(frame,cv2.COLOR_BGR2GRAY)\n",
    "\n",
    "\n",
    "if __name__ == \"__main__\":\n",
    "    cap=cv2.VideoCapture(0)\n",
    "    scalling_factor=0.9\n",
    "    prev_frame=get_frame(cap)\n",
    "    currunt_frame=get_frame(cap)\n",
    "    next_frame=get_frame(cap)\n",
    "    #Itrate Untill user press the key\n",
    "    while True:\n",
    "        frame_diffrence=frame_diff(prev_frame,currunt_frame,next_frame)\n",
    "        _,frame_th=cv2.threshold(frame_diffrence,0,255,cv2.THRESH_TRIANGLE)\n",
    "        cv2.imshow(\"frame_diffrance\",frame_diffrence)\n",
    "        cv2.imshow(\"frame_thresold\",frame_th)\n",
    "\n",
    "       #update variable\n",
    "        prev_frame=currunt_frame\n",
    "        currunt_frame=next_frame\n",
    "        next_frame=get_frame(cap)\n",
    "        \n",
    "        if cv2.waitKey(20)==ord(\"q\"):\n",
    "            break\n",
    "\n",
    "cv2.destroyAllWindows()\n"
   ]
  }
 ],
 "metadata": {
  "kernelspec": {
   "display_name": "Python 3",
   "language": "python",
   "name": "python3"
  },
  "language_info": {
   "codemirror_mode": {
    "name": "ipython",
    "version": 3
   },
   "file_extension": ".py",
   "mimetype": "text/x-python",
   "name": "python",
   "nbconvert_exporter": "python",
   "pygments_lexer": "ipython3",
   "version": "3.8.8"
  }
 },
 "nbformat": 4,
 "nbformat_minor": 5
}
