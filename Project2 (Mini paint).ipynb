{
 "cells": [
  {
   "cell_type": "code",
   "execution_count": null,
   "id": "3a81a66e",
   "metadata": {},
   "outputs": [],
   "source": [
    "import cv2\n",
    "import numpy as np\n",
    "draw=False  #True if mouse is press\n",
    "mode=True  #if True Draw Rectangle\n",
    "a,b=-1,-1\n",
    "\n",
    "#Trackbar function\n",
    "def onChange(value):\n",
    "    global a,b,mode,draw\n",
    "    if(value==0):\n",
    "        mode=True\n",
    "    elif(value==1):\n",
    "        mode=False\n",
    "\n",
    "#Mouse callback function\n",
    "def draw_circle(event,x,y,flags,param):\n",
    "    global draw,mode,a,b\n",
    "    if (event==cv2.EVENT_LBUTTONDOWN):\n",
    "        draw=True\n",
    "        a, b = x, y\n",
    "    elif(event==cv2.EVENT_MOUSEMOVE):\n",
    "        if draw==True:\n",
    "            if mode==True:\n",
    "                cv2.rectangle(img,(a,b),(x,y),(255,0,0),2)\n",
    "            else:\n",
    "                cv2.circle(img,(x,y),(a-x),(0,255,0),-1)\n",
    "    elif(event==cv2.EVENT_LBUTTONUP):\n",
    "        draw=False\n",
    "        if mode == True:\n",
    "            cv2.rectangle(img, (a, b), (x, y), (255, 0, 0), -1)\n",
    "        else:\n",
    "            cv2.circle(img, (x,y), 5, (0, 255, 0), -1)\n",
    "\n",
    "img=np.zeros((500,500,3),dtype=\"uint8\")\n",
    "\n",
    "#Trackbar\n",
    "cv2.namedWindow(\"track\")\n",
    "cv2.createTrackbar(\"shape\",\"track\",0,1,onChange)\n",
    "\n",
    "#Set Window\n",
    "cv2.namedWindow(\"image\")\n",
    "cv2.setMouseCallback(\"image\",draw_circle)\n",
    "\n",
    "while True:\n",
    "    cv2.imshow(\"image\",img)\n",
    "    if cv2.waitKey(20)==ord(\"q\"):\n",
    "        break\n",
    "\n",
    "cv2.destroyAllWindows()\n",
    "\n",
    "\n"
   ]
  }
 ],
 "metadata": {
  "kernelspec": {
   "display_name": "Python 3",
   "language": "python",
   "name": "python3"
  },
  "language_info": {
   "codemirror_mode": {
    "name": "ipython",
    "version": 3
   },
   "file_extension": ".py",
   "mimetype": "text/x-python",
   "name": "python",
   "nbconvert_exporter": "python",
   "pygments_lexer": "ipython3",
   "version": "3.8.8"
  }
 },
 "nbformat": 4,
 "nbformat_minor": 5
}
